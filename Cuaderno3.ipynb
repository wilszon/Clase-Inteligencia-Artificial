{
  "nbformat": 4,
  "nbformat_minor": 0,
  "metadata": {
    "colab": {
      "provenance": [],
      "authorship_tag": "ABX9TyOzBklS5paRx7PEPJup6B//",
      "include_colab_link": true
    },
    "kernelspec": {
      "name": "python3",
      "display_name": "Python 3"
    },
    "language_info": {
      "name": "python"
    }
  },
  "cells": [
    {
      "cell_type": "markdown",
      "metadata": {
        "id": "view-in-github",
        "colab_type": "text"
      },
      "source": [
        "<a href=\"https://colab.research.google.com/github/wilszon/Clase-Inteligencia-Artificial/blob/main/Cuaderno3.ipynb\" target=\"_parent\"><img src=\"https://colab.research.google.com/assets/colab-badge.svg\" alt=\"Open In Colab\"/></a>"
      ]
    },
    {
      "cell_type": "markdown",
      "source": [
        "#Manejo de Datos Categóricos - 27/02/2025\n",
        "\n"
      ],
      "metadata": {
        "id": "Iy7tl14TQd1_"
      }
    },
    {
      "cell_type": "code",
      "source": [
        "import pandas as pd\n",
        "\n",
        "# Dataset simulado\n",
        "data = {\n",
        "    \"ID\": [1, 2, 3, 4, 5],\n",
        "    \"Ciudad\": [\"Madrid\", \"Barcelona\", \"Sevilla\", \"Madrid\", \"Valencia\"],  # Nominal\n",
        "    \"Educación\": [\"Secundaria\", \"Primaria\", \"Universitaria\", \"Primaria\", \"Universitaria\"],  # Ordinal\n",
        "    \"Género\": [\"F\", \"M\", \"F\", \"M\", \"F\"],  # Nominal\n",
        "}\n",
        "df = pd.DataFrame(data)\n",
        "print(\"Dataset original:\")\n",
        "print(df)"
      ],
      "metadata": {
        "colab": {
          "base_uri": "https://localhost:8080/"
        },
        "id": "8ZIEQD4yVDHc",
        "outputId": "74fd3362-6c28-4add-b909-184dfc69f7df"
      },
      "execution_count": 1,
      "outputs": [
        {
          "output_type": "stream",
          "name": "stdout",
          "text": [
            "Dataset original:\n",
            "   ID     Ciudad      Educación Género\n",
            "0   1     Madrid     Secundaria      F\n",
            "1   2  Barcelona       Primaria      M\n",
            "2   3    Sevilla  Universitaria      F\n",
            "3   4     Madrid       Primaria      M\n",
            "4   5   Valencia  Universitaria      F\n"
          ]
        }
      ]
    },
    {
      "cell_type": "code",
      "source": [
        "# Usando get_dummies para One-Hot Encoding\n",
        "df_onehot = pd.get_dummies(df, columns=[\"Ciudad\"], prefix=\"Ciudad\")\n",
        "print(\"\\nCodificación One-Hot para 'Ciudad':\")\n",
        "print(df_onehot)"
      ],
      "metadata": {
        "colab": {
          "base_uri": "https://localhost:8080/"
        },
        "id": "yd9ip1OOVlYL",
        "outputId": "ed65e35e-723b-4fda-b67e-72fcf77aea4a"
      },
      "execution_count": 2,
      "outputs": [
        {
          "output_type": "stream",
          "name": "stdout",
          "text": [
            "\n",
            "Codificación One-Hot para 'Ciudad':\n",
            "   ID      Educación Género  Ciudad_Barcelona  Ciudad_Madrid  Ciudad_Sevilla  \\\n",
            "0   1     Secundaria      F             False           True           False   \n",
            "1   2       Primaria      M              True          False           False   \n",
            "2   3  Universitaria      F             False          False            True   \n",
            "3   4       Primaria      M             False           True           False   \n",
            "4   5  Universitaria      F             False          False           False   \n",
            "\n",
            "   Ciudad_Valencia  \n",
            "0            False  \n",
            "1            False  \n",
            "2            False  \n",
            "3            False  \n",
            "4             True  \n"
          ]
        }
      ]
    },
    {
      "cell_type": "markdown",
      "source": [
        "get_dummies es un metodo de **PANDAS**"
      ],
      "metadata": {
        "id": "JNk2CvyYWFZ8"
      }
    },
    {
      "cell_type": "markdown",
      "source": [
        "OneHotEnconder es una liberia que sirve para convertir variables categóricas en un formato numérico que los modelos puedan entender. En términos simples, sirve para transformar características que tienen valores de texto o categorías (como \"rojo\", \"azul\", \"verde\") en una representación binaria.\n",
        "\n"
      ],
      "metadata": {
        "id": "BM-B52pnW9YC"
      }
    },
    {
      "cell_type": "code",
      "source": [
        "from sklearn.preprocessing import OneHotEncoder\n",
        "\n",
        "# Configuración del codificador\n",
        "encoder = OneHotEncoder(sparse_output=False)  # Cambiado de sparse a sparse_output\n",
        "onehot_encoded = encoder.fit_transform(df[[\"Ciudad\"]])\n",
        "\n",
        "# Crear un DataFrame con los resultados\n",
        "onehot_df = pd.DataFrame(onehot_encoded, columns=encoder.get_feature_names_out([\"Ciudad\"]))\n",
        "print(\"\\nCodificación One-Hot con Scikit-learn:\")\n",
        "print(onehot_df)"
      ],
      "metadata": {
        "colab": {
          "base_uri": "https://localhost:8080/"
        },
        "id": "ZHfkC1aTXhkC",
        "outputId": "b2e80dad-39af-4931-ee6c-be39c1b167a8"
      },
      "execution_count": 3,
      "outputs": [
        {
          "output_type": "stream",
          "name": "stdout",
          "text": [
            "\n",
            "Codificación One-Hot con Scikit-learn:\n",
            "   Ciudad_Barcelona  Ciudad_Madrid  Ciudad_Sevilla  Ciudad_Valencia\n",
            "0               0.0            1.0             0.0              0.0\n",
            "1               1.0            0.0             0.0              0.0\n",
            "2               0.0            0.0             1.0              0.0\n",
            "3               0.0            1.0             0.0              0.0\n",
            "4               0.0            0.0             0.0              1.0\n"
          ]
        }
      ]
    },
    {
      "cell_type": "code",
      "source": [
        "onehot_df.drop(columns=['Ciudad_Valencia'],axis=1, inplace=True)\n",
        "print(onehot_df)"
      ],
      "metadata": {
        "colab": {
          "base_uri": "https://localhost:8080/"
        },
        "id": "Mr8mDLX8ZksA",
        "outputId": "c39adbd8-f3f1-4850-d29d-2be96a8264c7"
      },
      "execution_count": 4,
      "outputs": [
        {
          "output_type": "stream",
          "name": "stdout",
          "text": [
            "   Ciudad_Barcelona  Ciudad_Madrid  Ciudad_Sevilla\n",
            "0               0.0            1.0             0.0\n",
            "1               1.0            0.0             0.0\n",
            "2               0.0            0.0             1.0\n",
            "3               0.0            1.0             0.0\n",
            "4               0.0            0.0             0.0\n"
          ]
        }
      ]
    },
    {
      "cell_type": "code",
      "source": [
        "dfc=df.join(onehot_df)\n",
        "dfc.drop(columns=['Ciudad'],axis=1, inplace=True)\n",
        "print(dfc)"
      ],
      "metadata": {
        "colab": {
          "base_uri": "https://localhost:8080/"
        },
        "id": "LGLUc_2bZuFY",
        "outputId": "527d4fbc-15c2-4dde-fc5e-bd028c474aa8"
      },
      "execution_count": 5,
      "outputs": [
        {
          "output_type": "stream",
          "name": "stdout",
          "text": [
            "   ID      Educación Género  Ciudad_Barcelona  Ciudad_Madrid  Ciudad_Sevilla\n",
            "0   1     Secundaria      F               0.0            1.0             0.0\n",
            "1   2       Primaria      M               1.0            0.0             0.0\n",
            "2   3  Universitaria      F               0.0            0.0             1.0\n",
            "3   4       Primaria      M               0.0            1.0             0.0\n",
            "4   5  Universitaria      F               0.0            0.0             0.0\n"
          ]
        }
      ]
    },
    {
      "cell_type": "code",
      "source": [
        "# Codificación basada en la frecuencia\n",
        "df[\"Ciudad_Frecuencia\"] = df[\"Ciudad\"].map(df[\"Ciudad\"].value_counts())\n",
        "print(\"\\nCodificación de Frecuencia para 'Ciudad':\")\n",
        "print(df)"
      ],
      "metadata": {
        "colab": {
          "base_uri": "https://localhost:8080/"
        },
        "id": "2F8eZMwYaUV4",
        "outputId": "54dc01ee-29d3-4b67-d76a-9405860370d5"
      },
      "execution_count": 6,
      "outputs": [
        {
          "output_type": "stream",
          "name": "stdout",
          "text": [
            "\n",
            "Codificación de Frecuencia para 'Ciudad':\n",
            "   ID     Ciudad      Educación Género  Ciudad_Frecuencia\n",
            "0   1     Madrid     Secundaria      F                  2\n",
            "1   2  Barcelona       Primaria      M                  1\n",
            "2   3    Sevilla  Universitaria      F                  1\n",
            "3   4     Madrid       Primaria      M                  2\n",
            "4   5   Valencia  Universitaria      F                  1\n"
          ]
        }
      ]
    },
    {
      "cell_type": "code",
      "source": [
        "dfsinciudad=df.drop(columns=['Ciudad'],axis=1)\n",
        "print(dfsinciudad)"
      ],
      "metadata": {
        "colab": {
          "base_uri": "https://localhost:8080/"
        },
        "id": "rWcg9-XQaYQQ",
        "outputId": "9157f229-6e7a-4c55-8493-0e5227e397c9"
      },
      "execution_count": 7,
      "outputs": [
        {
          "output_type": "stream",
          "name": "stdout",
          "text": [
            "   ID      Educación Género  Ciudad_Frecuencia\n",
            "0   1     Secundaria      F                  2\n",
            "1   2       Primaria      M                  1\n",
            "2   3  Universitaria      F                  1\n",
            "3   4       Primaria      M                  2\n",
            "4   5  Universitaria      F                  1\n"
          ]
        }
      ]
    },
    {
      "cell_type": "code",
      "source": [
        "df.info()"
      ],
      "metadata": {
        "colab": {
          "base_uri": "https://localhost:8080/"
        },
        "id": "6aEaEA1McFc2",
        "outputId": "37e6703c-602b-4359-e6a5-d5c682e09bbd"
      },
      "execution_count": 8,
      "outputs": [
        {
          "output_type": "stream",
          "name": "stdout",
          "text": [
            "<class 'pandas.core.frame.DataFrame'>\n",
            "RangeIndex: 5 entries, 0 to 4\n",
            "Data columns (total 5 columns):\n",
            " #   Column             Non-Null Count  Dtype \n",
            "---  ------             --------------  ----- \n",
            " 0   ID                 5 non-null      int64 \n",
            " 1   Ciudad             5 non-null      object\n",
            " 2   Educación          5 non-null      object\n",
            " 3   Género             5 non-null      object\n",
            " 4   Ciudad_Frecuencia  5 non-null      int64 \n",
            "dtypes: int64(2), object(3)\n",
            "memory usage: 332.0+ bytes\n"
          ]
        }
      ]
    },
    {
      "cell_type": "code",
      "source": [
        "print(df)"
      ],
      "metadata": {
        "colab": {
          "base_uri": "https://localhost:8080/"
        },
        "id": "6iYg8kfOcx72",
        "outputId": "5607e2f4-8425-4062-948b-78ddcd7687ff"
      },
      "execution_count": 9,
      "outputs": [
        {
          "output_type": "stream",
          "name": "stdout",
          "text": [
            "   ID     Ciudad      Educación Género  Ciudad_Frecuencia\n",
            "0   1     Madrid     Secundaria      F                  2\n",
            "1   2  Barcelona       Primaria      M                  1\n",
            "2   3    Sevilla  Universitaria      F                  1\n",
            "3   4     Madrid       Primaria      M                  2\n",
            "4   5   Valencia  Universitaria      F                  1\n"
          ]
        }
      ]
    },
    {
      "cell_type": "code",
      "source": [
        "# Mapeo manual de las categorías\n",
        "orden_educacion = {\"Primaria\": 1, \"Secundaria\": 2, \"Universitaria\": 3}\n",
        "df[\"Educación_Ordinal\"] = df[\"Educación\"].map(orden_educacion)\n",
        "print(\"\\nCodificación Ordinal para 'Educación':\")\n",
        "print(df)"
      ],
      "metadata": {
        "colab": {
          "base_uri": "https://localhost:8080/"
        },
        "id": "rnBzdRdkd2N1",
        "outputId": "4974d610-c878-4cf4-d3e9-515ba3cfb57a"
      },
      "execution_count": 12,
      "outputs": [
        {
          "output_type": "stream",
          "name": "stdout",
          "text": [
            "\n",
            "Codificación Ordinal para 'Educación':\n",
            "       Educación  Educación_Ordinal\n",
            "0       Primaria                  1\n",
            "1     Secundaria                  2\n",
            "2  Universitaria                  3\n",
            "3       Primaria                  1\n"
          ]
        }
      ]
    },
    {
      "cell_type": "code",
      "source": [
        "from sklearn.preprocessing import OneHotEncoder\n",
        "from joblib import dump, load\n",
        "import numpy as np\n",
        "\n",
        "# Datos de ejemplo\n",
        "datos = np.array([[\"Bogotá\"], [\"Cali\"], [\"Medellín\"], [\"Cali\"], [\"Bogotá\"]])\n",
        "\n",
        "# Crear y ajustar el encoder\n",
        "encoder = OneHotEncoder(sparse_output=False)\n",
        "ciudad = encoder.fit_transform(datos)\n",
        "\n",
        "# Guardar el encoder en un archivo\n",
        "dump(encoder, \"onehot_encoder.joblib\")\n",
        "ciudad\n"
      ],
      "metadata": {
        "colab": {
          "base_uri": "https://localhost:8080/"
        },
        "id": "fgvt6-wGfoG0",
        "outputId": "5bb82671-080c-40da-8209-6af7903db0bb"
      },
      "execution_count": 14,
      "outputs": [
        {
          "output_type": "execute_result",
          "data": {
            "text/plain": [
              "array([[1., 0., 0.],\n",
              "       [0., 1., 0.],\n",
              "       [0., 0., 1.],\n",
              "       [0., 1., 0.],\n",
              "       [1., 0., 0.]])"
            ]
          },
          "metadata": {},
          "execution_count": 14
        }
      ]
    }
  ]
}